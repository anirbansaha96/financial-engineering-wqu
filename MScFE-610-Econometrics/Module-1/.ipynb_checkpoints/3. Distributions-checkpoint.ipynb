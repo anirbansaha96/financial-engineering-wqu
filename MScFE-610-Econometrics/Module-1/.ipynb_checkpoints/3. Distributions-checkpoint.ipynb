{
 "cells": [
  {
   "cell_type": "markdown",
   "metadata": {},
   "source": [
    "# Probability Distribution: \n",
    "In probability theory and statistics, a probability distribution is the mathematical function that gives the probabilities of occurrence of different possible outcomes for an experiment.\n",
    "\n",
    "Some important statistics of a Probability Distribution:\n",
    "\n",
    "1) Expected Values: Expected Values are numerical summaries of important characteristics of the distribution of random variables. For a discrete distribution, $\\mathbb{E}[f(x)] = \\sum_x f(x) P(X=x)$, and for a continuous distribution, $\\mathbb{E}[f(x)] = \\int_x f(x) P(X=x)$\n",
    "\n",
    "2) Mean: The mean is a measure of central tendency of a probability distribution or of the random variable characterized by that distribution. It is denoted by $\\mu$ and is equal to $\\mathbb{E}[X]$\n",
    "\n",
    "3) Variance: The variance is a measure of the spread/ dispersion/ variability of the distribution about its mean. It is denoted $\\sigma^2$ and has the formula $\\sigma^2 = \\mathbb{E}[(X-\\mu)^2]$\n",
    "\n",
    "4) Skewness: In probability theory and statistics, skewness is a measure of the asymmetry of the probability distribution of a real-valued random variable about its mean. The skewness value can be positive, zero, negative, or undefined. For a unimodal distribution, negative skew commonly indicates that the tail is on the left side of the distribution, and positive skew indicates that the tail is on the right. The Pearson moments skewness forumla for skewness is given by $\\mathbb{E}[(\\frac{X-\\mu}{\\sigma})^3]$ \n",
    "\n",
    "<img src=\"https://upload.wikimedia.org/wikipedia/commons/thumb/f/f8/Negative_and_positive_skew_diagrams_%28English%29.svg/669px-Negative_and_positive_skew_diagrams_%28English%29.svg.png\" />\n",
    "\n",
    "5) Kurtosis: In probability theory and statistics, kurtosis is a measure of the \"tailedness\" of the probability distribution of a real-valued random variable. Its Pearson's Moments Formual is given by $\\mathbb{E}[(\\frac{X-\\mu}{\\sigma})^4]$\n",
    "Excess Kurtosis is defined as kurtosis minus 3. \n",
    "Mesokurtic: Distributions with zero excess kurtosis are called mesokurtic, or mesokurtotic. The most prominent example of a mesokurtic distribution is the normal distribution.\n",
    "Leptokurtic: A distribution with positive excess kurtosis is called leptokurtic, or leptokurtotic. In terms of shape, a leptokurtic distribution has fatter tails.\n",
    "Platykurtic: A distribution with negative excess kurtosis is called platykurtic, or platykurtotic. In terms of shape, a platykurtic distribution has thinner tails. \n",
    "\n",
    "<img src=\"https://external-content.duckduckgo.com/iu/?u=http%3A%2F%2Fimages.wikia.com%2Fwhatilearned%2Fimages%2Ff%2Ff2%2FKurtosis.jpg&f=1&nofb=1\" />\n"
   ]
  },
  {
   "cell_type": "markdown",
   "metadata": {},
   "source": [
    "# Normal Distribution\n",
    "\n",
    "A Normal Distribution is a Probability Distribution, that is symmetric about the mean, showing data near the mean are more frequent in occurence than data far from the mean. It is one of the most important continuous distributions in Financial Modelling since many financial models assume that log of returns follow a normal distribution.\n",
    "\n",
    "### Formal Definition:\n",
    "In probability theory, a normal (or Gaussian or Gauss or Laplace–Gauss) distribution is a type of continuous probability distribution for a real-valued random variable. The general form of its probability density function is:\n",
    "\n",
    "$f(x)$ = $\\frac{1}{\\sigma \\sqrt{2 \\pi}}$ $e^{\\frac{-1}{2} (\\frac{x-\\mu}{\\sigma})^2}$, $-\\infty < x < \\infty$,  where $\\mu$ is the mean of the distribution and $\\sigma$ is the standard deviation. \n",
    "\n",
    "Note:\n",
    "1) For a normal distribution 68% of the data are within one standard deviation, 95% are within two standard deviation away and 99.7% of the data are three standard away from mean.\n",
    "\n",
    "2) Skewness measures the symmetry of a distribution. The normal distribution is symmetric and has skewness of zero.\n",
    "\n",
    "3) Kurtosis measures the thickness of the tail ends of a distribution. Normal distribution has a kurtosis of three and has no flat or thin tails. "
   ]
  },
  {
   "cell_type": "code",
   "execution_count": 17,
   "metadata": {},
   "outputs": [],
   "source": [
    "import numpy as np\n",
    "import seaborn as sns\n",
    "import matplotlib.pyplot as py\n",
    "dataset1=np.random.normal(0,1,2000)"
   ]
  },
  {
   "cell_type": "code",
   "execution_count": 18,
   "metadata": {},
   "outputs": [
    {
     "data": {
      "image/png": "[encoded data removed]",
      "text/plain": [
       "<Figure size 432x288 with 1 Axes>"
      ]
     },
     "metadata": {
      "needs_background": "light"
     },
     "output_type": "display_data"
    }
   ],
   "source": [
    "py.hist(dataset1)\n",
    "py.show()"
   ]
  },
  {
   "cell_type": "code",
   "execution_count": 19,
   "metadata": {},
   "outputs": [],
   "source": [
    "from scipy.stats import skew, kurtosis"
   ]
  },
  {
   "cell_type": "code",
   "execution_count": 21,
   "metadata": {},
   "outputs": [
    {
     "name": "stdout",
     "output_type": "stream",
     "text": [
      "Mean : 0.045613362493481496\n",
      "Variance : 1.0679022070824276\n",
      "Skewness : -0.05580795868482442\n",
      "Kurtosis : 3.1328900815726333\n"
     ]
    }
   ],
   "source": [
    "print(\"Mean :\", np.mean(dataset1))\n",
    "print(\"Variance :\", np.var(dataset1))\n",
    "print(\"Skewness :\",skew(dataset1))\n",
    "print(\"Kurtosis :\",kurtosis(dataset1,fisher=False)) #For Fisher's Normal has a Kurtosis of zero, For Pearson 3."
   ]
  },
  {
   "cell_type": "markdown",
   "metadata": {},
   "source": [
    "# Lognormal Distribution\n",
    "If $Y = log (X)$ has a normal distribution then, $X$ has a lognormal distribution. $X \\sim logN(\\mu,\\sigma^2)$ then $X$ has the following Probability Distribution function:\n",
    "\n",
    "$$ f(x) = \\frac{1}{x \\sigma \\sqrt{2\\pi}} e^{\\frac{-1}{2} (\\frac{logx-\\mu}{\\sigma})^2} \\textrm{ , for }  0 < x< \\infty$$\n"
   ]
  },
  {
   "cell_type": "markdown",
   "metadata": {},
   "source": [
    "# Chi-Square Distribution\n",
    "In probability theory and statistics, the chi-square distribution  with v degrees of freedom is the distribution of a sum of the squares of v independent standard normal random variables.\n",
    "\n",
    "It is one of the most widely used probability distributions in inferential statistics, notably in hypothesis testing and in construction of confidence intervals.\n",
    "\n",
    "The chi-square distribution is used in the common chi-square tests for goodness of fit of an observed distribution to a theoretical one, the independence of two criteria of classification of qualitative data, and in confidence interval estimation for a population standard deviation of a normal distribution from a sample standard deviation.\n",
    "\n",
    "The Probability Distribution Function is given by \n",
    "\n",
    "$$ f_{X} (x) = \\frac{(\\frac{1}{2})^{\\frac{1}{2} v}}{\\Gamma (\\frac{1}{2} v)} x^{\\frac{v}{2}-1} e^{\\frac{-1}{2} x} \\textrm{, for x>0.} $$"
   ]
  },
  {
   "cell_type": "markdown",
   "metadata": {},
   "source": [
    "It has a mean of $v$ and variance of $2v$"
   ]
  },
  {
   "cell_type": "markdown",
   "metadata": {},
   "source": [
    "# t-Distribution\n",
    "If the variable $X$ has $\\chi_v ^2$ distribution and another independent variable $Z$ has the standard normal distribution of the form $N(0,1)$ then $\\frac{Z}{\\sqrt{\\frac{X}{v}}}$ has t-distribution with $v$ degrees of freedom."
   ]
  },
  {
   "cell_type": "markdown",
   "metadata": {},
   "source": [
    "To find the probabilities for t-Distribution and Chi-Square distribution we make use of tables."
   ]
  },
  {
   "cell_type": "markdown",
   "metadata": {},
   "source": [
    "The t-distribution plays a role in a number of widely used statistical analyses, including Student's t-test for assessing the statistical significance of the difference between two sample means, the construction of confidence intervals for the difference between two population means, and in linear regression analysis. "
   ]
  },
  {
   "cell_type": "markdown",
   "metadata": {},
   "source": [
    "The t-distribution is symmetric and bell-shaped, like the normal distribution, but has heavier tails, meaning that it is more prone to producing values that fall far from its mean. This makes it useful for understanding the statistical behavior of certain types of ratios of random quantities."
   ]
  },
  {
   "cell_type": "markdown",
   "metadata": {},
   "source": [
    "# F-Distribution\n",
    "If two independent random variables X and Y have $\\chi^2$ distributions with parameters $n_1$ and $n_2$, then $$\\frac{\\frac{X}{n_1}}{\\frac{Y}{n_2}}$$ has $\\chi^2$ distribution with \"degrees of freedom\" $n_1$ and $n_2$.\n"
   ]
  },
  {
   "cell_type": "markdown",
   "metadata": {},
   "source": [
    "We again make use of Tables to read Probability values for F-Distribution.\n",
    "It is used in the testing of whether two observed samples have the same variance."
   ]
  }
 ],
 "metadata": {
  "kernelspec": {
   "display_name": "Python 3",
   "language": "python",
   "name": "python3"
  },
  "language_info": {
   "name": ""
  }
 },
 "nbformat": 4,
 "nbformat_minor": 2
}
