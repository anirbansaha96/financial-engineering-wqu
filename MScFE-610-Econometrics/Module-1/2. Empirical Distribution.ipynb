{
 "cells": [
  {
   "cell_type": "markdown",
   "metadata": {},
   "source": [
    "# Empirical Distribution\n",
    "The value of the empirical distribution at a point is equal to the proportions of observations(sorted) from the sample that are less than or equal to that point.\n",
    "## Formal Definition:\n",
    "If $\\xi_n = [x_1, x_2, x_3, ..., x_n]$ is a sample of size n, then empirical distribution of the sample $\\xi_n$ is given by \n",
    "\n",
    "$$\\mathbb{F}_n(x)=\\frac{1}{n} \\sum_{i=1} ^{n} 1_{x_i \\leq x}$$\n",
    "\n",
    "where $1_{x_i \\leq x}$ is the indicator function, which takes a value $1$ at $x_i \\leq x$ and $0$ otherwise"
   ]
  },
  {
   "cell_type": "markdown",
   "metadata": {},
   "source": [
    "### Note:\n",
    "1) The empirical distribution function is the distribution function for a discrete variable.\n",
    "This is because, for a discrete variable, the distribution function is constant between sample points, and it jumps by a value of $\\frac{1}{n}$ at the sample points, which is exactly what happens for the empirical distribution function. \n",
    "\n",
    "2) The empirical distribution function can itself be treated as a random variable. If treated so, then Under the hypothesis that all the random variables $X_1,...,X_n$ have the same distribution $\\mathbb{F}_X (x)$, the expected value of $\\mathbb{F}_n (x)$ is $\\mathbb{F}_X (x)$.\n",
    "Furthermore if $X_1, X_2, ..., X_n$ are mutually independent then $var(\\mathbb{F}_n (x)=\\frac{1}{n} F_X (x) [1-F_X (x)]$\n",
    "\n",
    "3) As a consequence of Note 2, we get that for large samples the empirical distribution converges in mean-square to the true distribution function. "
   ]
  },
  {
   "cell_type": "markdown",
   "metadata": {},
   "source": [
    "Next we show an easy way to visualize the empirical distribution function."
   ]
  },
  {
   "cell_type": "code",
   "execution_count": 4,
   "metadata": {},
   "outputs": [],
   "source": [
    "import numpy as np\n",
    "dataset1=np.random.normal(0,1,20)\n",
    "dataset1.sort()"
   ]
  },
  {
   "cell_type": "code",
   "execution_count": 11,
   "metadata": {},
   "outputs": [
    {
     "data": {
      "text/plain": [
       "array([-0.98534689, -0.81616941, -0.61393596, -0.57443876, -0.51972836,\n",
       "       -0.43983862, -0.40597508, -0.27891672, -0.21495022, -0.06602983,\n",
       "       -0.0176446 ,  0.08299753,  0.20757269,  0.23551045,  0.3417133 ,\n",
       "        0.84613348,  0.89003914,  1.18655989,  1.68436845,  1.95998853])"
      ]
     },
     "execution_count": 11,
     "metadata": {},
     "output_type": "execute_result"
    }
   ],
   "source": [
    "dataset1"
   ]
  },
  {
   "cell_type": "code",
   "execution_count": 15,
   "metadata": {},
   "outputs": [],
   "source": [
    "def empirical_distribution(x, dataset):\n",
    "    counter=0;\n",
    "    for i in range(len(dataset)):\n",
    "        if dataset[i]<=x:\n",
    "            counter=counter+1;\n",
    "        else:\n",
    "            continue;\n",
    "    return counter/len(dataset);"
   ]
  },
  {
   "cell_type": "code",
   "execution_count": 17,
   "metadata": {},
   "outputs": [
    {
     "data": {
      "text/plain": [
       "0.25"
      ]
     },
     "execution_count": 17,
     "metadata": {},
     "output_type": "execute_result"
    }
   ],
   "source": [
    "empirical_distribution(-0.5, dataset1)"
   ]
  }
 ],
 "metadata": {
  "kernelspec": {
   "display_name": "Python 3",
   "language": "python",
   "name": "python3"
  },
  "language_info": {
   "codemirror_mode": {
    "name": "ipython",
    "version": 3
   },
   "file_extension": ".py",
   "mimetype": "text/x-python",
   "name": "python",
   "nbconvert_exporter": "python",
   "pygments_lexer": "ipython3",
   "version": "3.7.3"
  }
 },
 "nbformat": 4,
 "nbformat_minor": 2
}
