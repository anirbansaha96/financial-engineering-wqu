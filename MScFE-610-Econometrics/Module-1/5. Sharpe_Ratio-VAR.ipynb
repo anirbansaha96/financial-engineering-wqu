{
 "cells": [
  {
   "cell_type": "markdown",
   "metadata": {},
   "source": [
    "# Sharpe Ratio\n",
    "The ratio is the average return earned in excess of the risk-free rate per unit of volatility or total risk. Volatility is a measure of the price fluctuations of an asset or portfolio.\n",
    "The Sharpe ratio was developed by Nobel laureate William F. Sharpe and is used to help investors understand the return of an investment compared to its risk.\n",
    "Generally, the greater the value of the Sharpe ratio, the more attractive the risk-adjusted return.\n",
    "\n",
    "The Formula for Share Ratio is given by:\n",
    "\n",
    "$$ \\textrm{Sharpe Ratio} = \\frac{R_p - R_f}{\\sigma_p}$$ $\\textrm{where} R_p \\textrm{ is the return of the portfolio, } R_f \\textrm{ is the risk free rate of interest, and } \\sigma_p \\textrm{ is the volatility of the portfolio, } $"
   ]
  },
  {
   "cell_type": "markdown",
   "metadata": {},
   "source": [
    "We now use Python to compare three Portfolios. We collect the returns of the three portfolios over 10 days and compare their performance:"
   ]
  },
  {
   "cell_type": "code",
   "execution_count": 1,
   "metadata": {},
   "outputs": [],
   "source": [
    "portfolioA=[0.15,0.20,0.15,0.1,0.1,0.1,0.15,0.1,0.05,-0.05]\n",
    "portfolioB=[0.09,0.15,0.23,0.1,0.11,0.08,0.07,0.06,0.06,0.05]\n",
    "portfolioC=[0.02,-0.02,0.18,0.12,0.15,0.02,0.07,0.21,0.08,0.17]"
   ]
  },
  {
   "cell_type": "code",
   "execution_count": 2,
   "metadata": {},
   "outputs": [
    {
     "name": "stdout",
     "output_type": "stream",
     "text": [
      "Average return of Portfolio A is  0.10500000000000001\n",
      "Average return of Portfolio B is  0.10000000000000002\n",
      "Average return of Portfolio C is  0.1\n"
     ]
    }
   ],
   "source": [
    "import numpy\n",
    "print(\"Average return of Portfolio A is \", numpy.mean(portfolioA))\n",
    "print(\"Average return of Portfolio B is \", numpy.mean(portfolioB))\n",
    "print(\"Average return of Portfolio C is \", numpy.mean(portfolioC))"
   ]
  },
  {
   "cell_type": "markdown",
   "metadata": {},
   "source": [
    "Hence all the Portfolio's have an average 10% return. So we look at their Sharpe Ratio. Assuming a risk free rate of 5%."
   ]
  },
  {
   "cell_type": "code",
   "execution_count": 3,
   "metadata": {},
   "outputs": [
    {
     "name": "stdout",
     "output_type": "stream",
     "text": [
      "Sharpe Ratio of Portfolio A is  0.8461538461538463\n",
      "Sharpe Ratio of Portfolio B is  0.9694584179118518\n",
      "Sharpe Ratio of Portfolio C is  0.675429033697874\n"
     ]
    }
   ],
   "source": [
    "risk_free=0.05\n",
    "sharpeA=((numpy.mean(portfolioA)-risk_free)/numpy.std(portfolioA))\n",
    "sharpeB=((numpy.mean(portfolioB)-risk_free)/numpy.std(portfolioB))\n",
    "sharpeC=((numpy.mean(portfolioC)-risk_free)/numpy.std(portfolioC))\n",
    "\n",
    "print(\"Sharpe Ratio of Portfolio A is \", sharpeA)\n",
    "print(\"Sharpe Ratio of Portfolio B is \", sharpeB)\n",
    "print(\"Sharpe Ratio of Portfolio C is \", sharpeC)"
   ]
  },
  {
   "cell_type": "markdown",
   "metadata": {},
   "source": [
    "We see that Portfolio B provides the higher returns per unit volatility. "
   ]
  },
  {
   "cell_type": "markdown",
   "metadata": {},
   "source": [
    "# Parametric Value at Risk"
   ]
  },
  {
   "cell_type": "markdown",
   "metadata": {},
   "source": [
    "One of the problems with Volatility being treated as a measure of risk is it is affected by movements in any direction. Investors are not worried about movements in their favor. They are only concerned about movements against their favor. This is were Value at Risk comes in to answer the question, \"What is the worst case scenario, and how much of value may the portfolio lose?\"."
   ]
  },
  {
   "cell_type": "markdown",
   "metadata": {},
   "source": [
    "#### VaR metric is a statistical risk management technique measuring the maximum loss that an investment portfolio is likely to face within a specified time frame with a certain degree of confidence."
   ]
  },
  {
   "cell_type": "markdown",
   "metadata": {},
   "source": [
    "The three important characteristics are : The amount of potential loss, the probability of occurrence for the amount of loss, and the timeframe."
   ]
  },
  {
   "cell_type": "markdown",
   "metadata": {},
   "source": [
    "#### The parametric method, also known as the variance-covariance method, is a risk management technique for calculating the VaR of a portfolio of assets.\n",
    "\n",
    "It first identifies the mean, or expected value, and standard deviation of an investment portfolio. The parametric method looks at the price movements of investments over a look-back period and uses probability theory to compute a portfolio's maximum loss. The variance-covariance method for the value at risk calculates the standard deviation of price movements of an investment or security. Assuming stock price returns and volatility follow a normal distribution, the maximum loss within the specified confidence level is calculated."
   ]
  },
  {
   "cell_type": "markdown",
   "metadata": {},
   "source": [
    "Considering an investment of $100 in the portfolios A, B, C above for a year we will find the VaR:"
   ]
  },
  {
   "cell_type": "code",
   "execution_count": 4,
   "metadata": {},
   "outputs": [],
   "source": [
    "Annualized_STDEV_A=(252**0.5)*numpy.std(portfolioA)\n",
    "Annualized_STDEV_B=(252**0.5)*numpy.std(portfolioB)\n",
    "Annualized_STDEV_C=(252**0.5)*numpy.std(portfolioC)"
   ]
  },
  {
   "cell_type": "markdown",
   "metadata": {},
   "source": [
    "The one-sided 95% confidence interval has a Z-Score of 1.645. Hence the VaR for each of these portfolios are:\n"
   ]
  },
  {
   "cell_type": "code",
   "execution_count": 5,
   "metadata": {},
   "outputs": [
    {
     "name": "stdout",
     "output_type": "stream",
     "text": [
      "Var_A :  169.73817536134882\n",
      "Var_B :  134.68120425657028\n",
      "Var_C :  193.3109485776737\n"
     ]
    }
   ],
   "source": [
    "VaR_A=1.645*Annualized_STDEV_A*100\n",
    "VaR_B=1.645*Annualized_STDEV_B*100\n",
    "VaR_C=1.645*Annualized_STDEV_C*100\n",
    "\n",
    "print(\"Var_A : \", VaR_A)\n",
    "print(\"Var_B : \", VaR_B)\n",
    "print(\"Var_C : \", VaR_C)"
   ]
  }
 ],
 "metadata": {
  "kernelspec": {
   "display_name": "Python 3",
   "language": "python",
   "name": "python3"
  },
  "language_info": {
   "codemirror_mode": {
    "name": "ipython",
    "version": 3
   },
   "file_extension": ".py",
   "mimetype": "text/x-python",
   "name": "python",
   "nbconvert_exporter": "python",
   "pygments_lexer": "ipython3",
   "version": "3.7.3"
  }
 },
 "nbformat": 4,
 "nbformat_minor": 2
}
