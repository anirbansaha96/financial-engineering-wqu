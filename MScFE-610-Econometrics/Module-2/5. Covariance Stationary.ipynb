{
 "cells": [
  {
   "cell_type": "markdown",
   "metadata": {},
   "source": [
    "# Covariance Stationary\n",
    "A sequence of random variables is covariance stationary if all the terms of the sequence have the same mean, and if the covariance between any two terms of the sequence depends only on the relative positions of the two terms, that is, on how far apart they are located from each other, and not on their absolute position, that is, on where they are located in the sequence.\n",
    "\n",
    "## Definition:\n",
    "A sequence of random variables $\\{X_n\\}$ is covariance stationary if and only if\n",
    "$$ \\exists \\mu \\in \\mathbb{R} : E[X_n]=\\mu,  \\forall n > 0$$\n",
    "$$ \\forall j \\geq 0, \\exists \\gamma_j \\in \\mathbb{R} : Cov[X_n, X_{n-j} ]=\\gamma_j, \\forall n > j$$"
   ]
  },
  {
   "cell_type": "markdown",
   "metadata": {},
   "source": [
    "### Example: White noise processes.\n",
    "\n",
    "A process $ \\{ \\epsilon_t \\} $ is called a *white noise process* if\n",
    "\n",
    "1. $ \\mathbb E [\\epsilon_t] = 0 $  \n",
    "1. $ \\gamma(k) = \\sigma^2 \\cdot \\mathbf{1}_{k = 0} $ for some $ \\sigma > 0 $  \n",
    "\n",
    "\n",
    "(Here $ \\mathbf{1}_{k = 0} $ is defined to be 1 if $ k = 0 $ and zero otherwise)"
   ]
  }
 ],
 "metadata": {
  "kernelspec": {
   "display_name": "Python 3",
   "language": "python",
   "name": "python3"
  },
  "language_info": {
   "codemirror_mode": {
    "name": "ipython",
    "version": 3
   },
   "file_extension": ".py",
   "mimetype": "text/x-python",
   "name": "python",
   "nbconvert_exporter": "python",
   "pygments_lexer": "ipython3",
   "version": "3.7.3"
  }
 },
 "nbformat": 4,
 "nbformat_minor": 2
}
