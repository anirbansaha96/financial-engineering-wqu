{
 "cells": [
  {
   "cell_type": "markdown",
   "metadata": {},
   "source": [
    "# Time Series Analysis\n",
    "A time series is a sequential set of data points, measured typically over successive times.\n",
    "\n",
    "Time series analysis comprises of methods for analyzing time series data in order to extract meaningful statistics and other characteristics of data.\n",
    "\n",
    "### Categorisation of Time Series Analysis:\n",
    "\n",
    "| Time Domain | Frequency Domain   |\n",
    "|------|------|\n",
    "|   Investigates algged relationships (Autocorrelation Analysis)  | Investigation of cycles|\n",
    "\n",
    "\n",
    "\n",
    "| Univariate | Multivariate  |\n",
    "|------|------|\n",
    "|  Records of a single variable  |  Records of more than one variable|\n",
    "\n",
    "\n",
    "\n",
    "| Linear | Non Linear  |\n",
    "|------|------|\n",
    "|  Assumes current value is a linear function of past values  |  Assumes current value is a non-linear function of past values|\n",
    "\n",
    "\n",
    "\n",
    "| Discrete  | Continuous  |\n",
    "|------|------|\n",
    "|  Observations measured at discrete points in time.  |  Observations are measured at every instance of time. |\n",
    "\n",
    "\n",
    "### Components of Time Series Analysis:\n",
    "\n",
    "#### Trend\n",
    "Tendency of the time series to increase/ decrease over time.\n",
    "#### Seasonality\n",
    "Explains periodical fluctuations within a year.\n",
    "#### Cyclical Variation\n",
    "Describes the medium-term changes caused by circumstances, which repeat in cycles. The duration of a cycle extends over longer period of time.\n",
    "#### Irregular variation\n",
    "Caused by unpredictable influences, which are not regular and also do not repeat in a particular pattern."
   ]
  }
 ],
 "metadata": {
  "kernelspec": {
   "display_name": "Python 3",
   "language": "python",
   "name": "python3"
  },
  "language_info": {
   "codemirror_mode": {
    "name": "ipython",
    "version": 3
   },
   "file_extension": ".py",
   "mimetype": "text/x-python",
   "name": "python",
   "nbconvert_exporter": "python",
   "pygments_lexer": "ipython3",
   "version": "3.7.3"
  }
 },
 "nbformat": 4,
 "nbformat_minor": 2
}
