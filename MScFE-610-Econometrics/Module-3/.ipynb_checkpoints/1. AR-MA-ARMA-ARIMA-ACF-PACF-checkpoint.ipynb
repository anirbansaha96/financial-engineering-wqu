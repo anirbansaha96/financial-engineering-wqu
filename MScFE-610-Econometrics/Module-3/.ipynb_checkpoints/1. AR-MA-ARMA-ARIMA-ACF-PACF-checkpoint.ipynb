{
 "cells": [
  {
   "cell_type": "markdown",
   "metadata": {},
   "source": [
    "# Time Series Analysis\n",
    "A time series is a sequential set of data points, measured typically over successive times.\n",
    "\n",
    "Time series analysis comprises of methods for analyzing time series data in order to extract meaningful statistics and other characteristics of data.\n",
    "\n",
    "### Categorisation of Time Series Analysis:\n",
    "\n",
    "| Time Domain | Frequency Domain   |\n",
    "|------|------|\n",
    "|   Investigates algged relationships (Autocorrelation Analysis)  | Investigation of cycles|\n",
    "\n",
    "\n",
    "\n",
    "| Univariate | Multivariate  |\n",
    "|------|------|\n",
    "|  Records of a single variable  |  Records of more than one variable|\n",
    "\n",
    "\n",
    "\n",
    "| Linear | Non Linear  |\n",
    "|------|------|\n",
    "|  Assumes current value is a linear function of past values  |  Assumes current value is a non-linear function of past values|\n",
    "\n",
    "\n",
    "\n",
    "| Discrete  | Continuous  |\n",
    "|------|------|\n",
    "|  Observations measured at discrete points in time.  |  Observations are measured at every instance of time. |\n",
    "\n",
    "\n",
    "### Components of Time Series Analysis:\n",
    "\n",
    "#### Trend\n",
    "Tendency of the time series to increase/ decrease over time.\n",
    "#### Seasonality\n",
    "Explains periodical fluctuations within a year.\n",
    "#### Cyclical Variation\n",
    "Describes the medium-term changes caused by circumstances, which repeat in cycles. The duration of a cycle extends over longer period of time.\n",
    "#### Irregular variation\n",
    "Caused by unpredictable influences, which are not regular and also do not repeat in a particular pattern."
   ]
  },
  {
   "cell_type": "markdown",
   "metadata": {},
   "source": [
    "These four components can be used in two models:\n",
    "\n",
    "##### Additive Model:\n",
    "$$Y(t)=T(t)+S(t)+C(t)+I(t)$$\n",
    "This assumes all four components are independent of each other.\n",
    "##### Multiplicative Model:\n",
    "$$Y(t)=T(t)*S(t)*C(t)*I(t)$$\n",
    "This assumes all four components are not necessarily independent of each other."
   ]
  },
  {
   "cell_type": "markdown",
   "metadata": {},
   "source": [
    "Time series can be defined as a collection of random variables indexed according to the order they are obtained in time, $X_1, X_2, X_3, . . . X_t$ will typically be discrete.\n",
    "The collection of random variables {Xt} is referred to as a stochastic process, while the observed values are referred to as a realization of the stochastic process.\n"
   ]
  },
  {
   "cell_type": "markdown",
   "metadata": {},
   "source": [
    "## Stationary Time Series\n",
    "A stationary time series is one whose statistical properties such as mean, variance, autocorrelation, etc. are all constant over time. Tests like the Dickey-Fuller test can be performed to check if a time series is staionary or not. Stationarity of a time series is an important assumption for many time series models. \n",
    "If the time series is not stationary, \"transformations\" can be performed to make it stationary, like differencing or log-differencing."
   ]
  },
  {
   "cell_type": "markdown",
   "metadata": {},
   "source": [
    "## Auto-covariance Function\n",
    "Assuming the variance of $X_t$ is finite, the autocovariance function is given by\n",
    "$$ \\gamma (s,t) = cov(X_s, X_t) = \\mathbb{E} [(X_s - \\mu_s)(X_t - \\mu_t)] $$\n",
    "\n",
    "It measures the linear dependence between two points on the same series observed at different times.\n"
   ]
  },
  {
   "cell_type": "markdown",
   "metadata": {},
   "source": [
    "## Auto Correlation Function (ACF)\n",
    "ACF is an (complete) auto-correlation function which gives us values of auto-correlation of any series with its lagged values.\n",
    "\n",
    "The Auto Correlation Function (ACF) is defined as:\n",
    "\n",
    "$$ \\rho (s,t) = \\frac{\\gamma(s,t)}{\\sqrt{\\gamma(s,s) \\gamma(t,t)}} $$"
   ]
  },
  {
   "cell_type": "markdown",
   "metadata": {},
   "source": [
    "$−1 ≤ \\rho(s,t) ≤ 1$"
   ]
  },
  {
   "cell_type": "markdown",
   "metadata": {},
   "source": [
    "ACF measures the linear predictability of $X_t$ using only $X_s$."
   ]
  },
  {
   "cell_type": "markdown",
   "metadata": {},
   "source": [
    "ACF plot is a bar chart of coefficients of correlation between a time series and it lagged values"
   ]
  },
  {
   "cell_type": "markdown",
   "metadata": {},
   "source": [
    "## Partial Auto Correlation Functions (PACF)\n",
    "Instead of finding correlations of present with lags like ACF, it finds correlation of the residuals (which remains after removing the effects which are already explained by the earlier lag(s)) with the next lag value.\n",
    "For a stationary process $X_t$ , the PACF (denoted as $φ_{hh}$), for $h = 1, 2, . . .$ is defined as\n",
    "\n",
    "$$φ_{11} = corr(X_{t+1}, X_t) = ρ_1 $$\n",
    "$$φ_{hh} = corr(X_{t+h} − \\hat{X}_{t+h}, X_t − \\hat{X}_t), h ≥ 2 $$"
   ]
  },
  {
   "cell_type": "markdown",
   "metadata": {},
   "source": [
    "where $\\hat{X}_{t+h}$ and $\\hat{X}_t$ is defined as: \n",
    "$$ \\hat{X}_{t+h} = \\beta_1 X_{t+h−1} + \\beta_2 X_{t+h−2} + · · · + \\beta_{h−1} X_{t+1}$$\n",
    "$$\\hat{X}_t = \\beta_1 X_{t+1} + \\beta_2 X_{t+2} + · · · + \\beta_{h−1} X_{t+h−1}$$"
   ]
  }
 ],
 "metadata": {
  "kernelspec": {
   "display_name": "Python 3",
   "language": "python",
   "name": "python3"
  },
  "language_info": {
   "codemirror_mode": {
    "name": "ipython",
    "version": 3
   },
   "file_extension": ".py",
   "mimetype": "text/x-python",
   "name": "python",
   "nbconvert_exporter": "python",
   "pygments_lexer": "ipython3",
   "version": "3.7.3"
  }
 },
 "nbformat": 4,
 "nbformat_minor": 2
}
