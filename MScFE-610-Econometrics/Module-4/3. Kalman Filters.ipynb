{
 "cells": [
  {
   "cell_type": "markdown",
   "metadata": {},
   "source": [
    "# Kalman Filter\n",
    "\n",
    "Kalman filtering is an algorithm that provides estimates of some unknown variables given the measurements observed over time.\n"
   ]
  },
  {
   "cell_type": "markdown",
   "metadata": {},
   "source": [
    "References:\n",
    "1. [Introduction to Kalman Filter and Its Applications\n",
    "By Youngjoo Kim and Hyochoong Bang](https://www.intechopen.com/books/introduction-and-implementations-of-the-kalman-filter/introduction-to-kalman-filter-and-its-applications)\n",
    "\n",
    "2. [QuantStart State Space Models and the Kalman Filter](https://www.quantstart.com/articles/State-Space-Models-and-the-Kalman-Filter/)\n",
    "\n",
    "3. [Quantopian Lecture Series](https://www.youtube.com/watch?v=RxIdLu18SsE&list=PLRFLF1OxMm_UL7WUWM31iynp0jMVf_vLW&index=17)\n",
    "\n",
    "4. [The Kalman Filter - Sharath Srinivasan](https://towardsdatascience.com/kalman-filter-an-algorithm-for-making-sense-from-the-insights-of-various-sensors-fused-together-ddf67597f35e)\n",
    "\n",
    "5. https://gist.github.com/oseiskar/5e8937af96efdfe5f8a6994764b07081\n",
    "\n",
    "6. https://towardsdatascience.com/state-space-model-and-kalman-filter-for-time-series-prediction-basic-structural-dynamic-linear-2421d7b49fa6\n",
    "\n",
    "7. https://towardsdatascience.com/kalman-filters-a-step-by-step-implementation-guide-in-python-91e7e123b968\n",
    "\n",
    "8. https://medium.com/@jaems33/understanding-kalman-filters-with-python-2310e87b8f48\n",
    "\n",
    "9. https://pykalman.github.io/"
   ]
  }
 ],
 "metadata": {
  "kernelspec": {
   "display_name": "Python 3",
   "language": "python",
   "name": "python3"
  },
  "language_info": {
   "codemirror_mode": {
    "name": "ipython",
    "version": 3
   },
   "file_extension": ".py",
   "mimetype": "text/x-python",
   "name": "python",
   "nbconvert_exporter": "python",
   "pygments_lexer": "ipython3",
   "version": "3.7.9"
  }
 },
 "nbformat": 4,
 "nbformat_minor": 4
}
