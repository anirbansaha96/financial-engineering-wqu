{
 "cells": [
  {
   "cell_type": "markdown",
   "metadata": {},
   "source": [
    "# <center> Univariate volatility Modelling </center>"
   ]
  },
  {
   "cell_type": "markdown",
   "metadata": {},
   "source": [
    "In econometrics, risk is characterised by volatility of returns, which is characterised by variance or standard deviation of returns.\n",
    "\n",
    "When the variance of a time-series process is not consistent, to model the data, it becomes imperative to model the conditional expectation and conditional variance of the data generating process. \n",
    "\n",
    "The various univariate volatility models include Auto Regressive Conditional Heteroscdastic (ARCH) Model and Generalized Auto Regressive Conditional Heteroscdastic (GARCH) Model, and other improvisations of the GARCH model.\n",
    "\n",
    "## ARCH Model\n",
    "ARCH (autoregressive conditionally heteroscedastic) model is a model for the variance of a time series. ARCH models are used to describe a changing, possibly volatile variance.\n",
    "\n",
    "As an example we use the ARCH(1) process.\n",
    "#### ARCH(1)\n",
    "If we are modelling the volatility of a series $y_t$.\n",
    "We assume that an AR(1) process is sufficient to capture the time series properties of the mean of the process.\n",
    "$$ y_t = a_0 + a_1 y_{t-1} + u_t $$\n",
    "We still assume the expectation of the error terms is zero, so its only the variance that deviates from zero. \n",
    "$$ \\mathbb{E}_t (u_t) = \\mathbb{E}_{t-1}(u_t) = 0 $$\n",
    "\n",
    "For the model of the conditional mean to be consistent, we require the level of the errors to be uncorrelated over time:\n",
    "$$ \\mathbb{E} (u_t u_{t-s}) = 0$$\n",
    "We allow the conditional variance $\\mathbb{E}_t(u_t ^2)=\\sigma_t ^2$ to be auto-correlated.\n",
    "\n",
    "Under the ARCH(1) model, the residual term can be expressed as\n",
    "\n",
    "$$ u_t = \\epsilon_t \\sqrt{\\omega + \\alpha_1 u_{t-1} ^2} $$\n",
    "\n",
    "where $\\epsilon_t$ is white noise that is independent of $u_t$ with variance 1. \n",
    "\n",
    "The period $t-1$ conditional variance for $u_t$ is \n",
    "$$\\begin{align} \n",
    "\\mathbb{E}_{t-1} (u_t ^2) &= \\mathbb{E}_{t-1} ((\\epsilon_t \\sqrt{\\omega + \\alpha_1 u_{t-1} ^2})^2) \\\\ \n",
    "&= \\sigma_{\\epsilon} ^2 ( \\omega + \\alpha_1 \\mathbb{E}_{t-1} (u_{t-1} ^2 )) \\\\\n",
    "&=  \\omega + \\alpha_1 u_{t-1} ^2\n",
    "\\end{align}$$\n",
    "\n",
    "and the unconditional variance is given by,\n",
    "$$\\begin{align} \n",
    "\\mathbb{E} (u_t ^2) &= \\mathbb{E} ((\\epsilon_t \\sqrt{\\omega + \\alpha_1 u_{t-1} ^2})^2) \\\\ \n",
    "&=  ( \\omega + \\alpha_1 \\mathbb{E} (u_{t-1} ^2 )) \\\\\n",
    "&=  \\frac{\\omega}{1 - \\alpha_1}\n",
    "\\end{align}$$"
   ]
  }
 ],
 "metadata": {
  "kernelspec": {
   "display_name": "Python 3",
   "language": "python",
   "name": "python3"
  },
  "language_info": {
   "codemirror_mode": {
    "name": "ipython",
    "version": 3
   },
   "file_extension": ".py",
   "mimetype": "text/x-python",
   "name": "python",
   "nbconvert_exporter": "python",
   "pygments_lexer": "ipython3",
   "version": "3.7.3"
  }
 },
 "nbformat": 4,
 "nbformat_minor": 2
}
